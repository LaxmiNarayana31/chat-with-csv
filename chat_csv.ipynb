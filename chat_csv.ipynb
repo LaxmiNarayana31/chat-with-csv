{
 "cells": [
  {
   "cell_type": "code",
   "execution_count": 59,
   "metadata": {},
   "outputs": [
    {
     "data": {
      "text/plain": [
       "True"
      ]
     },
     "execution_count": 59,
     "metadata": {},
     "output_type": "execute_result"
    }
   ],
   "source": [
    "import os\n",
    "from dotenv import load_dotenv\n",
    "\n",
    "load_dotenv(verbose=True)"
   ]
  },
  {
   "cell_type": "code",
   "execution_count": 60,
   "metadata": {},
   "outputs": [
    {
     "data": {
      "text/html": [
       "<div>\n",
       "<style scoped>\n",
       "    .dataframe tbody tr th:only-of-type {\n",
       "        vertical-align: middle;\n",
       "    }\n",
       "\n",
       "    .dataframe tbody tr th {\n",
       "        vertical-align: top;\n",
       "    }\n",
       "\n",
       "    .dataframe thead th {\n",
       "        text-align: right;\n",
       "    }\n",
       "</style>\n",
       "<table border=\"1\" class=\"dataframe\">\n",
       "  <thead>\n",
       "    <tr style=\"text-align: right;\">\n",
       "      <th></th>\n",
       "      <th>rank</th>\n",
       "      <th>global company</th>\n",
       "      <th>country</th>\n",
       "      <th>sales</th>\n",
       "      <th>profit</th>\n",
       "      <th>assets</th>\n",
       "      <th>market value</th>\n",
       "    </tr>\n",
       "  </thead>\n",
       "  <tbody>\n",
       "    <tr>\n",
       "      <th>0</th>\n",
       "      <td>1</td>\n",
       "      <td>Berkshire Hathaway                            ...</td>\n",
       "      <td>United States</td>\n",
       "      <td>$276.09 B</td>\n",
       "      <td>$89.8 B</td>\n",
       "      <td>$958.78 B</td>\n",
       "      <td>$741.48 B</td>\n",
       "    </tr>\n",
       "    <tr>\n",
       "      <th>1</th>\n",
       "      <td>2</td>\n",
       "      <td>ICBC                                          ...</td>\n",
       "      <td>China</td>\n",
       "      <td>$208.13 B</td>\n",
       "      <td>$54.03 B</td>\n",
       "      <td>$5,518.51 B</td>\n",
       "      <td>$214.43 B</td>\n",
       "    </tr>\n",
       "    <tr>\n",
       "      <th>2</th>\n",
       "      <td>3</td>\n",
       "      <td>Saudi Arabian Oil Company (Saudi Aramco)      ...</td>\n",
       "      <td>Saudi Arabia</td>\n",
       "      <td>$400.38 B</td>\n",
       "      <td>$105.36 B</td>\n",
       "      <td>$576.04 B</td>\n",
       "      <td>$2,292.08 B</td>\n",
       "    </tr>\n",
       "    <tr>\n",
       "      <th>3</th>\n",
       "      <td>4</td>\n",
       "      <td>JPMorgan Chase                                ...</td>\n",
       "      <td>United States</td>\n",
       "      <td>$124.54 B</td>\n",
       "      <td>$42.12 B</td>\n",
       "      <td>$3,954.69 B</td>\n",
       "      <td>$374.45 B</td>\n",
       "    </tr>\n",
       "    <tr>\n",
       "      <th>4</th>\n",
       "      <td>5</td>\n",
       "      <td>China Construction Bank                       ...</td>\n",
       "      <td>China</td>\n",
       "      <td>$202.07 B</td>\n",
       "      <td>$46.89 B</td>\n",
       "      <td>$4,746.95 B</td>\n",
       "      <td>$181.32 B</td>\n",
       "    </tr>\n",
       "  </tbody>\n",
       "</table>\n",
       "</div>"
      ],
      "text/plain": [
       "   rank  global company                                             \\\n",
       "0      1  Berkshire Hathaway                            ...          \n",
       "1      2  ICBC                                          ...          \n",
       "2      3  Saudi Arabian Oil Company (Saudi Aramco)      ...          \n",
       "3      4  JPMorgan Chase                                ...          \n",
       "4      5  China Construction Bank                       ...          \n",
       "\n",
       "   country                sales       profit      assets         market value  \n",
       "0  United States          $276.09 B   $89.8 B     $958.78 B         $741.48 B  \n",
       "1  China                  $208.13 B   $54.03 B      $5,518.51 B     $214.43 B  \n",
       "2  Saudi Arabia           $400.38 B   $105.36 B   $576.04 B       $2,292.08 B  \n",
       "3  United States          $124.54 B   $42.12 B      $3,954.69 B     $374.45 B  \n",
       "4  China                  $202.07 B   $46.89 B      $4,746.95 B     $181.32 B  "
      ]
     },
     "execution_count": 60,
     "metadata": {},
     "output_type": "execute_result"
    }
   ],
   "source": [
    "import pandas as pd\n",
    "\n",
    "df = pd.read_csv('dataset/companies.csv')\n",
    "df.head()"
   ]
  },
  {
   "cell_type": "code",
   "execution_count": 61,
   "metadata": {},
   "outputs": [],
   "source": [
    "from langchain_experimental.agents.agent_toolkits import create_csv_agent\n",
    "from langchain_google_genai import ChatGoogleGenerativeAI\n",
    "\n",
    "llm = ChatGoogleGenerativeAI(model=\"gemini-1.5-flash\", google_api_key = os.getenv(\"GEMINI_API_KEY\"))\n"
   ]
  },
  {
   "cell_type": "code",
   "execution_count": 62,
   "metadata": {},
   "outputs": [],
   "source": [
    "agent = create_csv_agent(llm, \"dataset/companies.csv\", allow_dangerous_code=True)"
   ]
  },
  {
   "cell_type": "code",
   "execution_count": 63,
   "metadata": {},
   "outputs": [
    {
     "data": {
      "text/plain": [
       "AgentExecutor(verbose=False, agent=RunnableAgent(runnable=RunnableAssign(mapper={\n",
       "  agent_scratchpad: RunnableLambda(lambda x: format_log_to_str(x['intermediate_steps']))\n",
       "})\n",
       "| PromptTemplate(input_variables=['agent_scratchpad', 'input'], input_types={}, partial_variables={'df_head': '|    |   rank  | global company                                              | country                 | sales        | profit       | assets           | market value   |\\n|---:|--------:|:------------------------------------------------------------|:------------------------|:-------------|:-------------|:-----------------|:---------------|\\n|  0 |       1 | Berkshire Hathaway                                          | United States           | $276.09 B    | $89.8 B      | $958.78 B        | $741.48 B      |\\n|  1 |       2 | ICBC                                                        | China                   | $208.13 B    | $54.03 B     | $5,518.51 B      | $214.43 B      |\\n|  2 |       3 | Saudi Arabian Oil Company (Saudi Aramco)                    | Saudi Arabia            | $400.38 B    | $105.36 B    | $576.04 B        | $2,292.08 B    |\\n|  3 |       4 | JPMorgan Chase                                              | United States           | $124.54 B    | $42.12 B     | $3,954.69 B      | $374.45 B      |\\n|  4 |       5 | China Construction Bank                                     | China                   | $202.07 B    | $46.89 B     | $4,746.95 B      | $181.32 B      |', 'tools': 'python_repl_ast - A Python shell. Use this to execute python commands. Input should be a valid python command. When using this tool, sometimes output is abbreviated - make sure it does not look abbreviated before using it in your answer.', 'tool_names': 'python_repl_ast'}, template='\\nYou are working with a pandas dataframe in Python. The name of the dataframe is `df`.\\nYou should use the tools below to answer the question posed of you:\\n\\n{tools}\\n\\nUse the following format:\\n\\nQuestion: the input question you must answer\\nThought: you should always think about what to do\\nAction: the action to take, should be one of [{tool_names}]\\nAction Input: the input to the action\\nObservation: the result of the action\\n... (this Thought/Action/Action Input/Observation can repeat N times)\\nThought: I now know the final answer\\nFinal Answer: the final answer to the original input question\\n\\n\\nThis is the result of `print(df.head())`:\\n{df_head}\\n\\nBegin!\\nQuestion: {input}\\n{agent_scratchpad}')\n",
       "| RunnableBinding(bound=ChatGoogleGenerativeAI(model='models/gemini-1.5-flash', google_api_key=SecretStr('**********'), client=<google.ai.generativelanguage_v1beta.services.generative_service.client.GenerativeServiceClient object at 0x000001CD9C9AB920>, default_metadata=()), kwargs={'stop': ['\\nObservation']}, config={}, config_factories=[])\n",
       "| ReActSingleInputOutputParser(), input_keys_arg=['input'], return_keys_arg=['output'], stream_runnable=True), tools=[PythonAstREPLTool(globals={}, locals={'df':       rank  global company                                             \\\n",
       "0         1  Berkshire Hathaway                            ...          \n",
       "1         2  ICBC                                          ...          \n",
       "2         3  Saudi Arabian Oil Company (Saudi Aramco)      ...          \n",
       "3         4  JPMorgan Chase                                ...          \n",
       "4         5  China Construction Bank                       ...          \n",
       "...     ...                                                ...          \n",
       "1995   1995  Shenzhen Feima International Supply Chain Co.,...          \n",
       "1996   1997  NMDC                                          ...          \n",
       "1997   1997  Sichuan Changhong Electric                    ...          \n",
       "1998   1999  Credit Bank of Moscow                         ...          \n",
       "1999   1999  Satellite Chemical                            ...          \n",
       "\n",
       "      country                sales       profit      assets          \\\n",
       "0     United States          $276.09 B   $89.8 B     $958.78 B        \n",
       "1     China                  $208.13 B   $54.03 B      $5,518.51 B    \n",
       "2     Saudi Arabia           $400.38 B   $105.36 B   $576.04 B        \n",
       "3     United States          $124.54 B   $42.12 B      $3,954.69 B    \n",
       "4     China                  $202.07 B   $46.89 B      $4,746.95 B    \n",
       "...                     ...         ...         ...             ...   \n",
       "1995  China                  $37 M       $1.41 B     $166 M           \n",
       "1996  India                  $3.52 B     $1.41 B     $5.71 B          \n",
       "1997  China                  $15.72 B    $53.1 M     $12.11 B         \n",
       "1998  Russia                 $2.53 B     $370.1 M    $45.15 B         \n",
       "1999  China                  $4.41 B     $931.3 M    $7.64 B          \n",
       "\n",
       "     market value  \n",
       "0       $741.48 B  \n",
       "1       $214.43 B  \n",
       "2     $2,292.08 B  \n",
       "3       $374.45 B  \n",
       "4       $181.32 B  \n",
       "...           ...  \n",
       "1995      $1.14 B  \n",
       "1996       $6.4 B  \n",
       "1997      $1.96 B  \n",
       "1998      $2.06 B  \n",
       "1999      $9.52 B  \n",
       "\n",
       "[2000 rows x 7 columns]})])"
      ]
     },
     "execution_count": 63,
     "metadata": {},
     "output_type": "execute_result"
    }
   ],
   "source": [
    "agent"
   ]
  },
  {
   "cell_type": "code",
   "execution_count": 64,
   "metadata": {},
   "outputs": [],
   "source": [
    "query = \"What is the total assets of JPMorgan Chase ?\""
   ]
  },
  {
   "cell_type": "code",
   "execution_count": 65,
   "metadata": {},
   "outputs": [
    {
     "data": {
      "text/plain": [
       "'$3,954.69 B'"
      ]
     },
     "execution_count": 65,
     "metadata": {},
     "output_type": "execute_result"
    }
   ],
   "source": [
    "agent.run(query)"
   ]
  },
  {
   "cell_type": "code",
   "execution_count": 70,
   "metadata": {},
   "outputs": [],
   "source": [
    "query = \"Tell the 20 company names ?\""
   ]
  },
  {
   "cell_type": "code",
   "execution_count": 71,
   "metadata": {},
   "outputs": [
    {
     "data": {
      "text/plain": [
       "\"['Berkshire Hathaway', 'ICBC', 'Saudi Arabian Oil Company (Saudi Aramco)', 'JPMorgan Chase', 'China Construction Bank', 'Amazon', 'Apple', 'Agricultural Bank of China', 'Bank of America', 'Toyota Motor', 'Alphabet', 'Microsoft', 'Bank of China', 'Samsung Group', 'ExxonMobil', 'Shell', 'Ping An Insurance Group', 'Wells Fargo', 'Verizon Communications', 'AT&T']\""
      ]
     },
     "execution_count": 71,
     "metadata": {},
     "output_type": "execute_result"
    }
   ],
   "source": [
    "agent.run(query)"
   ]
  }
 ],
 "metadata": {
  "kernelspec": {
   "display_name": "Chat-CSV-nlnbp_Ai",
   "language": "python",
   "name": "python3"
  },
  "language_info": {
   "codemirror_mode": {
    "name": "ipython",
    "version": 3
   },
   "file_extension": ".py",
   "mimetype": "text/x-python",
   "name": "python",
   "nbconvert_exporter": "python",
   "pygments_lexer": "ipython3",
   "version": "3.12.0"
  }
 },
 "nbformat": 4,
 "nbformat_minor": 2
}
